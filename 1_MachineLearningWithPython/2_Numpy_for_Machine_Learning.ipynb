{
  "cells": [
    {
      "cell_type": "markdown",
      "metadata": {
        "id": "S4D7bfHAy1G_"
      },
      "source": [
        "# Numpy for Machine Learning\n",
        "\n",
        "Numpy is the core library for scientific computing in Python. It provides a high-performance multidimensional array object, and tools for working with these arrays.\n",
        "\n",
        "\n",
        "\n",
        "**Numpy Vs Python Lists:**\n",
        "\n",
        "- The list can be homogeneous or heterogeneous.\n",
        "- Element wise operation is not possible on the list.\n",
        "- Python list is by default 4 dimensional. But we can create an  N-Dimensional list. But then too it will be 4 D list storing another 4D list\n",
        "- Elements of a list need not be contiguous in memory.\n",
        "\n",
        "**Numpy**\n",
        "\n",
        "- consumes less memory.\n",
        "- fast as compared to the python List.\n",
        "- convenient to use."
      ]
    },
    {
      "cell_type": "code",
      "execution_count": 2,
      "metadata": {
        "id": "GklDMJX_ytqF"
      },
      "outputs": [],
      "source": [
        "import numpy as np"
      ]
    },
    {
      "cell_type": "code",
      "execution_count": 3,
      "metadata": {
        "colab": {
          "base_uri": "https://localhost:8080/",
          "height": 35
        },
        "id": "gnBu08sDXSpX",
        "outputId": "acb04647-41ba-4064-e11e-4831f6290735"
      },
      "outputs": [
        {
          "data": {
            "text/plain": [
              "'1.24.1'"
            ]
          },
          "execution_count": 3,
          "metadata": {},
          "output_type": "execute_result"
        }
      ],
      "source": [
        "np.__version__"
      ]
    },
    {
      "cell_type": "code",
      "execution_count": null,
      "metadata": {
        "id": "n9LCdC0sXYgo"
      },
      "outputs": [],
      "source": [
        "# !pip install numpy"
      ]
    },
    {
      "cell_type": "code",
      "execution_count": 4,
      "metadata": {
        "colab": {
          "base_uri": "https://localhost:8080/"
        },
        "id": "2pd0esgrX5pb",
        "outputId": "7a5484f0-bb6c-4a85-a0ef-97b8b49962c7"
      },
      "outputs": [
        {
          "data": {
            "text/plain": [
              "array([[[2, 2, 4, 2, 9],\n",
              "        [8, 4, 4, 8, 0],\n",
              "        [0, 9, 8, 7, 8],\n",
              "        [7, 9, 2, 8, 2]],\n",
              "\n",
              "       [[2, 5, 9, 1, 5],\n",
              "        [4, 6, 8, 2, 0],\n",
              "        [9, 1, 1, 2, 4],\n",
              "        [3, 0, 2, 4, 5]],\n",
              "\n",
              "       [[3, 2, 9, 7, 0],\n",
              "        [7, 9, 7, 9, 7],\n",
              "        [3, 5, 2, 1, 7],\n",
              "        [0, 4, 1, 3, 2]]])"
            ]
          },
          "execution_count": 4,
          "metadata": {},
          "output_type": "execute_result"
        }
      ],
      "source": [
        "# outer dimension -> Inner Dimension\n",
        "x = np.random.randint(10,size=(3,4,5))\n",
        "x"
      ]
    },
    {
      "cell_type": "code",
      "execution_count": 5,
      "metadata": {
        "colab": {
          "base_uri": "https://localhost:8080/"
        },
        "id": "Q1xvxJoVYAWg",
        "outputId": "be98203f-e990-4199-8123-51b51c288a0f"
      },
      "outputs": [
        {
          "data": {
            "text/plain": [
              "3"
            ]
          },
          "execution_count": 5,
          "metadata": {},
          "output_type": "execute_result"
        }
      ],
      "source": [
        "#ndim (x, y, z) = 3 demensional ... (x,y,z,q) = 4 dimensional\n",
        "x.ndim"
      ]
    },
    {
      "cell_type": "code",
      "execution_count": 6,
      "metadata": {
        "colab": {
          "base_uri": "https://localhost:8080/"
        },
        "id": "zt0dW0dAYHmv",
        "outputId": "f120d3f9-800c-4691-92f2-3edd3cb07e89"
      },
      "outputs": [
        {
          "data": {
            "text/plain": [
              "(3, 4, 5)"
            ]
          },
          "execution_count": 6,
          "metadata": {},
          "output_type": "execute_result"
        }
      ],
      "source": [
        "x.shape"
      ]
    },
    {
      "cell_type": "code",
      "execution_count": 7,
      "metadata": {
        "colab": {
          "base_uri": "https://localhost:8080/"
        },
        "id": "OVM8j7K0YJ8p",
        "outputId": "7f98721b-9774-4c05-d0c9-7decba907af7"
      },
      "outputs": [
        {
          "data": {
            "text/plain": [
              "60"
            ]
          },
          "execution_count": 7,
          "metadata": {},
          "output_type": "execute_result"
        }
      ],
      "source": [
        "# (x * y * z)\n",
        "x.size "
      ]
    },
    {
      "cell_type": "code",
      "execution_count": 8,
      "metadata": {
        "colab": {
          "base_uri": "https://localhost:8080/"
        },
        "id": "htoxKR-3YL_w",
        "outputId": "caa686f8-4c2f-4c5a-a783-368386168e17"
      },
      "outputs": [
        {
          "data": {
            "text/plain": [
              "dtype('int64')"
            ]
          },
          "execution_count": 8,
          "metadata": {},
          "output_type": "execute_result"
        }
      ],
      "source": [
        "x.dtype"
      ]
    },
    {
      "cell_type": "code",
      "execution_count": 9,
      "metadata": {
        "colab": {
          "base_uri": "https://localhost:8080/"
        },
        "id": "5p8WG6WWYRtn",
        "outputId": "622f3372-72bb-4b53-9ff1-35c6534c87eb"
      },
      "outputs": [
        {
          "data": {
            "text/plain": [
              "8"
            ]
          },
          "execution_count": 9,
          "metadata": {},
          "output_type": "execute_result"
        }
      ],
      "source": [
        "# itemsize returns the size (in bytes) of each element of a NumPy array. itemsize will be 8, because this array consists of integers and size of integer (in bytes) is 8 bytes.\n",
        "x.itemsize # 8 bytes"
      ]
    },
    {
      "cell_type": "code",
      "execution_count": 10,
      "metadata": {
        "colab": {
          "base_uri": "https://localhost:8080/"
        },
        "id": "rpwsJpjiYcKk",
        "outputId": "0bfd796c-b12b-4d10-b77f-149cb05c464f"
      },
      "outputs": [
        {
          "data": {
            "text/plain": [
              "480"
            ]
          },
          "execution_count": 10,
          "metadata": {},
          "output_type": "execute_result"
        }
      ],
      "source": [
        "# size * bytes\n",
        "x.nbytes"
      ]
    },
    {
      "cell_type": "markdown",
      "metadata": {
        "id": "_2Q7ftDDZGJ7"
      },
      "source": [
        "## Creating Arrays"
      ]
    },
    {
      "cell_type": "code",
      "execution_count": 20,
      "metadata": {
        "id": "_mM_bPY0Yf3-"
      },
      "outputs": [
        {
          "data": {
            "text/plain": [
              "array([1, 2, 3, 4, 5])"
            ]
          },
          "execution_count": 20,
          "metadata": {},
          "output_type": "execute_result"
        }
      ],
      "source": [
        "x = np.array(object=[1,2,3,4,5])\n",
        "x"
      ]
    },
    {
      "cell_type": "code",
      "execution_count": 21,
      "metadata": {
        "colab": {
          "base_uri": "https://localhost:8080/"
        },
        "id": "-TNS0j5GaIgl",
        "outputId": "b59a4540-74c6-4040-929c-02b7fea0ff01"
      },
      "outputs": [
        {
          "data": {
            "text/plain": [
              "numpy.ndarray"
            ]
          },
          "execution_count": 21,
          "metadata": {},
          "output_type": "execute_result"
        }
      ],
      "source": [
        "type(x)"
      ]
    },
    {
      "cell_type": "code",
      "execution_count": 22,
      "metadata": {
        "colab": {
          "base_uri": "https://localhost:8080/"
        },
        "id": "b0yg_CTfaTQd",
        "outputId": "0928e37f-5fcf-487d-f0c3-8dce2b5a1621"
      },
      "outputs": [
        {
          "data": {
            "text/plain": [
              "dtype('int64')"
            ]
          },
          "execution_count": 22,
          "metadata": {},
          "output_type": "execute_result"
        }
      ],
      "source": [
        "x.dtype"
      ]
    },
    {
      "cell_type": "code",
      "execution_count": 24,
      "metadata": {
        "id": "EcVsADOSaLTb"
      },
      "outputs": [
        {
          "data": {
            "text/plain": [
              "array([1.+0.j, 2.+0.j, 3.+0.j, 4.+0.j, 5.+0.j])"
            ]
          },
          "execution_count": 24,
          "metadata": {},
          "output_type": "execute_result"
        }
      ],
      "source": [
        "x = np.array(object=[1,2,3,4,5], dtype = complex)\n",
        "x"
      ]
    },
    {
      "cell_type": "code",
      "execution_count": 23,
      "metadata": {
        "colab": {
          "base_uri": "https://localhost:8080/"
        },
        "id": "EM9Q94HtaZBG",
        "outputId": "96552c7e-3b22-4428-df36-19bf872e925b"
      },
      "outputs": [
        {
          "data": {
            "text/plain": [
              "dtype('int64')"
            ]
          },
          "execution_count": 23,
          "metadata": {},
          "output_type": "execute_result"
        }
      ],
      "source": [
        "x.dtype"
      ]
    },
    {
      "cell_type": "code",
      "execution_count": 33,
      "metadata": {
        "colab": {
          "base_uri": "https://localhost:8080/"
        },
        "id": "uMxzxy9WaZVZ",
        "outputId": "d40ef888-2f24-4cac-e742-75d433d9a797"
      },
      "outputs": [
        {
          "data": {
            "text/plain": [
              "array([1, 2, 3, 4, 5, 6, 7])"
            ]
          },
          "execution_count": 33,
          "metadata": {},
          "output_type": "execute_result"
        }
      ],
      "source": [
        "y = np.array([1,2,3,4,5,6,7])\n",
        "type(y)\n",
        "y"
      ]
    },
    {
      "cell_type": "markdown",
      "metadata": {
        "id": "tVqDTfGfarIQ"
      },
      "source": [
        "## Create Array from Scratch"
      ]
    },
    {
      "cell_type": "code",
      "execution_count": 35,
      "metadata": {
        "colab": {
          "base_uri": "https://localhost:8080/"
        },
        "id": "tgpbIymJajMb",
        "outputId": "6d59d917-071c-48fb-f9a9-ef292ccbeaf2"
      },
      "outputs": [
        {
          "data": {
            "text/plain": [
              "array([[0, 0, 0, 0, 0],\n",
              "       [0, 0, 0, 0, 0],\n",
              "       [0, 0, 0, 0, 0],\n",
              "       [0, 0, 0, 0, 0]])"
            ]
          },
          "execution_count": 35,
          "metadata": {},
          "output_type": "execute_result"
        }
      ],
      "source": [
        "np.zeros(shape=(4,5),dtype=\"int\")"
      ]
    },
    {
      "cell_type": "code",
      "execution_count": 38,
      "metadata": {
        "colab": {
          "base_uri": "https://localhost:8080/"
        },
        "id": "ip-qc0-sa415",
        "outputId": "6138b880-73f0-41bb-d2ac-bdd4b4dc1660"
      },
      "outputs": [
        {
          "data": {
            "text/plain": [
              "array([[1., 1., 1.],\n",
              "       [1., 1., 1.],\n",
              "       [1., 1., 1.]])"
            ]
          },
          "execution_count": 38,
          "metadata": {},
          "output_type": "execute_result"
        }
      ],
      "source": [
        "np.ones(shape=(3,3), dtype = \"float\")"
      ]
    },
    {
      "cell_type": "code",
      "execution_count": 34,
      "metadata": {
        "colab": {
          "base_uri": "https://localhost:8080/"
        },
        "id": "UrS0hEUvbAMs",
        "outputId": "53d53320-3612-41fd-d159-8c887b630714"
      },
      "outputs": [
        {
          "data": {
            "text/plain": [
              "array([[3.1456, 3.1456, 3.1456, 3.1456],\n",
              "       [3.1456, 3.1456, 3.1456, 3.1456],\n",
              "       [3.1456, 3.1456, 3.1456, 3.1456],\n",
              "       [3.1456, 3.1456, 3.1456, 3.1456]])"
            ]
          },
          "execution_count": 34,
          "metadata": {},
          "output_type": "execute_result"
        }
      ],
      "source": [
        "np.full(shape=(4,4),fill_value= 3.1456)"
      ]
    },
    {
      "cell_type": "code",
      "execution_count": 42,
      "metadata": {
        "colab": {
          "base_uri": "https://localhost:8080/"
        },
        "id": "hdgVYcctfo-a",
        "outputId": "db73400b-8a5e-4343-e6cd-8eb559288f06"
      },
      "outputs": [
        {
          "data": {
            "text/plain": [
              "array([ 0,  2,  4,  6,  8, 10, 12, 14, 16, 18])"
            ]
          },
          "execution_count": 42,
          "metadata": {},
          "output_type": "execute_result"
        }
      ],
      "source": [
        "# Array filled with linear sequence (start, stop, step)\n",
        "# start value is inclusive\n",
        "# end value is exclusive\n",
        "np.arange(0,20,2)"
      ]
    },
    {
      "cell_type": "code",
      "execution_count": 41,
      "metadata": {
        "colab": {
          "base_uri": "https://localhost:8080/"
        },
        "id": "oy-LCUIff2BC",
        "outputId": "448b97f5-5c99-4892-e0fc-86e68d353bad"
      },
      "outputs": [
        {
          "data": {
            "text/plain": [
              "array([ 1,  4,  7, 10, 13, 16, 19, 22])"
            ]
          },
          "execution_count": 41,
          "metadata": {},
          "output_type": "execute_result"
        }
      ],
      "source": [
        "np.arange(1,25,3)"
      ]
    },
    {
      "cell_type": "code",
      "execution_count": 44,
      "metadata": {
        "colab": {
          "base_uri": "https://localhost:8080/"
        },
        "id": "L6jE34ydgGAq",
        "outputId": "2a5e5485-6c44-4119-8a48-09c90ae10b46"
      },
      "outputs": [
        {
          "data": {
            "text/plain": [
              "array([0.  , 0.25, 0.5 , 0.75, 1.  ])"
            ]
          },
          "execution_count": 44,
          "metadata": {},
          "output_type": "execute_result"
        }
      ],
      "source": [
        "# array with equally spaced data points \n",
        "# (start, stop, points)\n",
        "np.linspace(0,1,5)"
      ]
    },
    {
      "cell_type": "code",
      "execution_count": 45,
      "metadata": {
        "colab": {
          "base_uri": "https://localhost:8080/"
        },
        "id": "KB1UhGJCgNZw",
        "outputId": "7675e385-4f49-4844-c792-b62ac473397f"
      },
      "outputs": [
        {
          "data": {
            "text/plain": [
              "array([[3.18210125e-01, 9.06217783e-04, 5.64036753e-01],\n",
              "       [2.80842734e-02, 4.67497991e-02, 9.80528787e-01],\n",
              "       [9.51043064e-01, 3.46748206e-01, 4.30013561e-01]])"
            ]
          },
          "execution_count": 45,
          "metadata": {},
          "output_type": "execute_result"
        }
      ],
      "source": [
        "np.random.random((3,3))"
      ]
    },
    {
      "cell_type": "code",
      "execution_count": 50,
      "metadata": {
        "colab": {
          "base_uri": "https://localhost:8080/"
        },
        "id": "ZZ2auK3WgVGB",
        "outputId": "6202822b-ca5e-4a53-ce58-a4aacf49d0b4"
      },
      "outputs": [
        {
          "data": {
            "text/plain": [
              "array([[ 0.21892788, -0.63943948,  1.40065076],\n",
              "       [-1.16222907, -0.5288664 , -0.03134052],\n",
              "       [-1.96183514, -0.94915318, -0.85954024]])"
            ]
          },
          "execution_count": 50,
          "metadata": {},
          "output_type": "execute_result"
        }
      ],
      "source": [
        "# Draw random samples from a normal (Gaussian) distribution\n",
        "# (Loc (center), scale (width), size)\n",
        "np.random.normal(0,1,(3,3))"
      ]
    },
    {
      "cell_type": "code",
      "execution_count": 6,
      "metadata": {
        "colab": {
          "base_uri": "https://localhost:8080/"
        },
        "id": "z9pvVoLAgezY",
        "outputId": "2434fe45-a401-4638-e81c-a39f7803fd1a"
      },
      "outputs": [
        {
          "data": {
            "text/plain": [
              "array([[29, 43, 53],\n",
              "       [69, 93, 48]])"
            ]
          },
          "execution_count": 6,
          "metadata": {},
          "output_type": "execute_result"
        }
      ],
      "source": [
        "# random integers between 10 & 100\n",
        "np.random.randint(10,100,size=(2,3))"
      ]
    },
    {
      "cell_type": "code",
      "execution_count": 8,
      "metadata": {
        "colab": {
          "base_uri": "https://localhost:8080/"
        },
        "id": "_yYh982lg1yB",
        "outputId": "f8f687a3-09e2-48ca-eb7a-3c1e2da8080e"
      },
      "outputs": [
        {
          "data": {
            "text/plain": [
              "array([[1., 0., 0., 0.],\n",
              "       [0., 1., 0., 0.],\n",
              "       [0., 0., 1., 0.],\n",
              "       [0., 0., 0., 1.]])"
            ]
          },
          "execution_count": 8,
          "metadata": {},
          "output_type": "execute_result"
        }
      ],
      "source": [
        "np.eye(4)"
      ]
    },
    {
      "cell_type": "code",
      "execution_count": 9,
      "metadata": {
        "colab": {
          "base_uri": "https://localhost:8080/"
        },
        "id": "LHACdE_fg3fb",
        "outputId": "85b4c1dc-5299-460e-bda4-1556c01153f6"
      },
      "outputs": [
        {
          "data": {
            "text/plain": [
              "array([1., 1., 1., 1.])"
            ]
          },
          "execution_count": 9,
          "metadata": {},
          "output_type": "execute_result"
        }
      ],
      "source": [
        "np.empty(4)"
      ]
    },
    {
      "cell_type": "code",
      "execution_count": null,
      "metadata": {
        "id": "cH4bKeM34UfS"
      },
      "outputs": [],
      "source": [
        "## MAKE SURE ALL VALUES ARE SAME DATA TYPE\n",
        "# bool (true, false)\n",
        "# int (1)\n",
        "# complex (Imaginary Numbers)\n",
        "# float (1.0000)\n",
        "# object"
      ]
    },
    {
      "cell_type": "code",
      "execution_count": 44,
      "metadata": {
        "colab": {
          "base_uri": "https://localhost:8080/"
        },
        "id": "melKQpn041GZ",
        "outputId": "8046aeb9-478c-452a-c440-00ff7837bd79"
      },
      "outputs": [
        {
          "data": {
            "text/plain": [
              "array([[57, 78, 35],\n",
              "       [77, 93, 33],\n",
              "       [67, 24, 33],\n",
              "       [82, 99, 52]])"
            ]
          },
          "execution_count": 44,
          "metadata": {},
          "output_type": "execute_result"
        }
      ],
      "source": [
        "x = np.random.randint(10,100,(4,3))\n",
        "x"
      ]
    },
    {
      "cell_type": "code",
      "execution_count": 15,
      "metadata": {
        "colab": {
          "base_uri": "https://localhost:8080/"
        },
        "id": "G6cY9hPA49KT",
        "outputId": "35e019b0-6630-415d-8933-c024093a0a58"
      },
      "outputs": [
        {
          "data": {
            "text/plain": [
              "89"
            ]
          },
          "execution_count": 15,
          "metadata": {},
          "output_type": "execute_result"
        }
      ],
      "source": [
        "# Keep in mind that array starts at 0\n",
        "x[1,2]"
      ]
    },
    {
      "cell_type": "code",
      "execution_count": 16,
      "metadata": {
        "colab": {
          "base_uri": "https://localhost:8080/"
        },
        "id": "6GvCDv8P5VQ4",
        "outputId": "0c20565c-bf48-4348-dc7a-0e594928f9d0"
      },
      "outputs": [
        {
          "data": {
            "text/plain": [
              "97"
            ]
          },
          "execution_count": 16,
          "metadata": {},
          "output_type": "execute_result"
        }
      ],
      "source": [
        "x[2,2]"
      ]
    },
    {
      "cell_type": "code",
      "execution_count": 17,
      "metadata": {
        "colab": {
          "base_uri": "https://localhost:8080/"
        },
        "id": "WoSS6mIg5diT",
        "outputId": "c5bff560-2497-4c78-8c05-6c8fbdb1c7da"
      },
      "outputs": [
        {
          "data": {
            "text/plain": [
              "77"
            ]
          },
          "execution_count": 17,
          "metadata": {},
          "output_type": "execute_result"
        }
      ],
      "source": [
        "x[1,0]"
      ]
    },
    {
      "cell_type": "code",
      "execution_count": 20,
      "metadata": {
        "colab": {
          "base_uri": "https://localhost:8080/"
        },
        "id": "fWgOne6I5glz",
        "outputId": "2baed30a-da5c-4c2b-de04-84958afb2bf9"
      },
      "outputs": [
        {
          "data": {
            "text/plain": [
              "array([[27, 94, 75],\n",
              "       [77, 15, 89],\n",
              "       [19, 79, 97],\n",
              "       [75, 27, 97]])"
            ]
          },
          "execution_count": 20,
          "metadata": {},
          "output_type": "execute_result"
        }
      ],
      "source": [
        "x"
      ]
    },
    {
      "cell_type": "code",
      "execution_count": 21,
      "metadata": {
        "colab": {
          "base_uri": "https://localhost:8080/"
        },
        "id": "EnBmnT7Q5ntf",
        "outputId": "410358c9-82a3-42d1-a823-26674579a524"
      },
      "outputs": [
        {
          "data": {
            "text/plain": [
              "array([19, 79, 97])"
            ]
          },
          "execution_count": 21,
          "metadata": {},
          "output_type": "execute_result"
        }
      ],
      "source": [
        "x[2]"
      ]
    },
    {
      "cell_type": "code",
      "execution_count": 22,
      "metadata": {
        "colab": {
          "base_uri": "https://localhost:8080/"
        },
        "id": "XhzxjOWM5pgm",
        "outputId": "8a06ff9b-16a7-4054-9212-c752ff5cdbd4"
      },
      "outputs": [
        {
          "data": {
            "text/plain": [
              "array([75, 27, 97])"
            ]
          },
          "execution_count": 22,
          "metadata": {},
          "output_type": "execute_result"
        }
      ],
      "source": [
        "x[-1]"
      ]
    },
    {
      "cell_type": "code",
      "execution_count": 23,
      "metadata": {
        "colab": {
          "base_uri": "https://localhost:8080/"
        },
        "id": "ZReUdEsk50Ck",
        "outputId": "accec712-df27-4657-fe8c-3574002a6647"
      },
      "outputs": [
        {
          "data": {
            "text/plain": [
              "97"
            ]
          },
          "execution_count": 23,
          "metadata": {},
          "output_type": "execute_result"
        }
      ],
      "source": [
        "x[-2,-1]"
      ]
    },
    {
      "cell_type": "code",
      "execution_count": null,
      "metadata": {
        "id": "OSapPVsi542f"
      },
      "outputs": [],
      "source": [
        "# x[start:end:stepsize,start:end:stepsize]"
      ]
    },
    {
      "cell_type": "code",
      "execution_count": 30,
      "metadata": {
        "colab": {
          "base_uri": "https://localhost:8080/"
        },
        "id": "3veWNmu86INg",
        "outputId": "c3868964-48b1-4617-b45a-b764891cf82f"
      },
      "outputs": [
        {
          "data": {
            "text/plain": [
              "array([[77, 15, 89],\n",
              "       [19, 79, 97],\n",
              "       [75, 27, 97]])"
            ]
          },
          "execution_count": 30,
          "metadata": {},
          "output_type": "execute_result"
        }
      ],
      "source": [
        "x[1:4]"
      ]
    },
    {
      "cell_type": "code",
      "execution_count": 31,
      "metadata": {
        "colab": {
          "base_uri": "https://localhost:8080/"
        },
        "id": "-lXVQv8w6J6w",
        "outputId": "cd03c278-2cea-4f88-8b7f-bf80f7688c15"
      },
      "outputs": [
        {
          "data": {
            "text/plain": [
              "array([[77, 15, 89],\n",
              "       [19, 79, 97]])"
            ]
          },
          "execution_count": 31,
          "metadata": {},
          "output_type": "execute_result"
        }
      ],
      "source": [
        "x[1:3]"
      ]
    },
    {
      "cell_type": "code",
      "execution_count": 29,
      "metadata": {
        "colab": {
          "base_uri": "https://localhost:8080/"
        },
        "id": "lH_J_nIf6OUp",
        "outputId": "85e9f9a4-4957-4dbb-8b41-eaa37115c228"
      },
      "outputs": [
        {
          "data": {
            "text/plain": [
              "array([[15, 89],\n",
              "       [79, 97]])"
            ]
          },
          "execution_count": 29,
          "metadata": {},
          "output_type": "execute_result"
        }
      ],
      "source": [
        "x[1:3,1:3]"
      ]
    },
    {
      "cell_type": "code",
      "execution_count": 61,
      "metadata": {
        "id": "MK3eag_16SiA"
      },
      "outputs": [],
      "source": [
        "# A seed generates the same random numbers every time (similar to a seed in Minectaft)\n",
        "# seed only works for np.random functions ran within the same ipynb Code Cell\n",
        "np.random.seed(6)\n",
        "y = np.random.randint(0,1000,(7,7))\n"
      ]
    },
    {
      "cell_type": "code",
      "execution_count": 62,
      "metadata": {
        "colab": {
          "base_uri": "https://localhost:8080/"
        },
        "id": "0I_EdB2d6fAo",
        "outputId": "72b0ada2-2398-44de-f0fa-3ad092c8b5f3"
      },
      "outputs": [
        {
          "data": {
            "text/plain": [
              "array([[906, 713, 227, 980, 618, 365, 335],\n",
              "       [362, 848, 318, 281, 513,  75, 333],\n",
              "       [697,  26, 495, 161, 748, 622, 324],\n",
              "       [929, 264, 130, 204, 980, 987,  31],\n",
              "       [450, 901, 637, 410, 527, 473, 342],\n",
              "       [626, 939, 197, 485, 433, 644, 485],\n",
              "       [ 62, 592, 194, 127, 322, 319, 147]])"
            ]
          },
          "execution_count": 62,
          "metadata": {},
          "output_type": "execute_result"
        }
      ],
      "source": [
        "y"
      ]
    },
    {
      "cell_type": "code",
      "execution_count": 63,
      "metadata": {
        "colab": {
          "base_uri": "https://localhost:8080/"
        },
        "id": "aU_XK81J6fXS",
        "outputId": "269424e8-ba7b-44a1-f229-f3dbf79fe787"
      },
      "outputs": [
        {
          "data": {
            "text/plain": [
              "array([495, 130, 637, 197])"
            ]
          },
          "execution_count": 63,
          "metadata": {},
          "output_type": "execute_result"
        }
      ],
      "source": [
        "y[2:6,2]"
      ]
    },
    {
      "cell_type": "code",
      "execution_count": 48,
      "metadata": {
        "colab": {
          "base_uri": "https://localhost:8080/"
        },
        "id": "PMKsGPCv6tRA",
        "outputId": "e2e19c63-af09-4cd8-8eeb-408cdfbd22f7"
      },
      "outputs": [
        {
          "data": {
            "text/plain": [
              "array([[848, 281,  75],\n",
              "       [264, 204, 987],\n",
              "       [939, 485, 644]])"
            ]
          },
          "execution_count": 48,
          "metadata": {},
          "output_type": "execute_result"
        }
      ],
      "source": [
        "# [start:stop:step, start:stop:step]\n",
        "y[1:7:2,1:7:2]"
      ]
    },
    {
      "cell_type": "markdown",
      "metadata": {
        "id": "yn86D9QX7MIf"
      },
      "source": [
        "## Array Slicing as Views"
      ]
    },
    {
      "cell_type": "code",
      "execution_count": 64,
      "metadata": {
        "colab": {
          "base_uri": "https://localhost:8080/"
        },
        "id": "f7WQUlwM6z6K",
        "outputId": "bbf6502d-c719-43e5-82de-33eb47f7afad"
      },
      "outputs": [
        {
          "data": {
            "text/plain": [
              "array([[906, 713, 227, 980, 618, 365, 335],\n",
              "       [362, 848, 318, 281, 513,  75, 333],\n",
              "       [697,  26, 495, 161, 748, 622, 324],\n",
              "       [929, 264, 130, 204, 980, 987,  31],\n",
              "       [450, 901, 637, 410, 527, 473, 342],\n",
              "       [626, 939, 197, 485, 433, 644, 485],\n",
              "       [ 62, 592, 194, 127, 322, 319, 147]])"
            ]
          },
          "execution_count": 64,
          "metadata": {},
          "output_type": "execute_result"
        }
      ],
      "source": [
        "y"
      ]
    },
    {
      "cell_type": "code",
      "execution_count": 66,
      "metadata": {
        "colab": {
          "base_uri": "https://localhost:8080/"
        },
        "id": "9vRil9gC8GYz",
        "outputId": "cac69d07-5b02-47c3-88b6-1ea4831c8701"
      },
      "outputs": [
        {
          "data": {
            "text/plain": [
              "array([[848, 281,  75],\n",
              "       [264, 204, 987],\n",
              "       [939, 485, 644]])"
            ]
          },
          "execution_count": 66,
          "metadata": {},
          "output_type": "execute_result"
        }
      ],
      "source": [
        "a = y[1:7:2,1:7:2]\n",
        "a"
      ]
    },
    {
      "cell_type": "code",
      "execution_count": 67,
      "metadata": {
        "id": "f5VwU--S8PL9"
      },
      "outputs": [],
      "source": [
        "a[0,0] = 999"
      ]
    },
    {
      "cell_type": "code",
      "execution_count": 68,
      "metadata": {
        "colab": {
          "base_uri": "https://localhost:8080/"
        },
        "id": "Dn85BTyQ8MKi",
        "outputId": "5be717c3-543c-4d75-9c71-5ea28668c493"
      },
      "outputs": [
        {
          "data": {
            "text/plain": [
              "array([[999, 281,  75],\n",
              "       [264, 204, 987],\n",
              "       [939, 485, 644]])"
            ]
          },
          "execution_count": 68,
          "metadata": {},
          "output_type": "execute_result"
        }
      ],
      "source": [
        "a"
      ]
    },
    {
      "cell_type": "code",
      "execution_count": 69,
      "metadata": {
        "colab": {
          "base_uri": "https://localhost:8080/"
        },
        "id": "qoDePrfD8R7E",
        "outputId": "9f1371c4-9257-4b4b-bee4-da203e08485a"
      },
      "outputs": [
        {
          "data": {
            "text/plain": [
              "array([[906, 713, 227, 980, 618, 365, 335],\n",
              "       [362, 999, 318, 281, 513,  75, 333],\n",
              "       [697,  26, 495, 161, 748, 622, 324],\n",
              "       [929, 264, 130, 204, 980, 987,  31],\n",
              "       [450, 901, 637, 410, 527, 473, 342],\n",
              "       [626, 939, 197, 485, 433, 644, 485],\n",
              "       [ 62, 592, 194, 127, 322, 319, 147]])"
            ]
          },
          "execution_count": 69,
          "metadata": {},
          "output_type": "execute_result"
        }
      ],
      "source": [
        "# Original Array is modified (WHO KNEW)\n",
        "y"
      ]
    },
    {
      "cell_type": "code",
      "execution_count": 70,
      "metadata": {
        "colab": {
          "base_uri": "https://localhost:8080/"
        },
        "id": "_VzexoqT8W6p",
        "outputId": "7adff21b-bf26-4444-ccc2-5e645c0cc1e5"
      },
      "outputs": [
        {
          "data": {
            "text/plain": [
              "array([[999, 281,  75],\n",
              "       [264, 204, 987],\n",
              "       [939, 485, 644]])"
            ]
          },
          "execution_count": 70,
          "metadata": {},
          "output_type": "execute_result"
        }
      ],
      "source": [
        "# Use a copy NOT a view (as previously shown)\n",
        "a = y[1:7:2,1:7:2].copy()\n",
        "a"
      ]
    },
    {
      "cell_type": "code",
      "execution_count": 71,
      "metadata": {
        "id": "YbtwbWSr8kWs"
      },
      "outputs": [],
      "source": [
        "a[0,0] = 100"
      ]
    },
    {
      "cell_type": "code",
      "execution_count": 72,
      "metadata": {
        "colab": {
          "base_uri": "https://localhost:8080/"
        },
        "id": "xpvl1nn08os7",
        "outputId": "926ed8ed-4302-4f5f-dc83-851b995763fa"
      },
      "outputs": [
        {
          "data": {
            "text/plain": [
              "array([[100, 281,  75],\n",
              "       [264, 204, 987],\n",
              "       [939, 485, 644]])"
            ]
          },
          "execution_count": 72,
          "metadata": {},
          "output_type": "execute_result"
        }
      ],
      "source": [
        "a"
      ]
    },
    {
      "cell_type": "code",
      "execution_count": 73,
      "metadata": {
        "colab": {
          "base_uri": "https://localhost:8080/"
        },
        "id": "KsH3uElh8pGC",
        "outputId": "342d3b10-8885-41f4-f7ad-4af1bfcad161"
      },
      "outputs": [
        {
          "data": {
            "text/plain": [
              "array([[906, 713, 227, 980, 618, 365, 335],\n",
              "       [362, 999, 318, 281, 513,  75, 333],\n",
              "       [697,  26, 495, 161, 748, 622, 324],\n",
              "       [929, 264, 130, 204, 980, 987,  31],\n",
              "       [450, 901, 637, 410, 527, 473, 342],\n",
              "       [626, 939, 197, 485, 433, 644, 485],\n",
              "       [ 62, 592, 194, 127, 322, 319, 147]])"
            ]
          },
          "execution_count": 73,
          "metadata": {},
          "output_type": "execute_result"
        }
      ],
      "source": [
        "y"
      ]
    },
    {
      "cell_type": "code",
      "execution_count": 74,
      "metadata": {
        "colab": {
          "base_uri": "https://localhost:8080/"
        },
        "id": "z4E5kB068rAu",
        "outputId": "bbd4d22c-12ee-4584-ebc9-7ea045253381"
      },
      "outputs": [
        {
          "data": {
            "text/plain": [
              "(7, 7)"
            ]
          },
          "execution_count": 74,
          "metadata": {},
          "output_type": "execute_result"
        }
      ],
      "source": [
        "y.shape"
      ]
    },
    {
      "cell_type": "markdown",
      "metadata": {
        "id": "xh5DU9eb-88y"
      },
      "source": [
        "## Array Shape Modification"
      ]
    },
    {
      "cell_type": "code",
      "execution_count": 18,
      "metadata": {
        "colab": {
          "base_uri": "https://localhost:8080/"
        },
        "id": "G101RrAF823z",
        "outputId": "16d677ed-0b72-4be6-be91-ee363556f4ef"
      },
      "outputs": [
        {
          "data": {
            "text/plain": [
              "array([[10, 73, 99],\n",
              "       [84, 79, 80],\n",
              "       [62, 25,  1],\n",
              "       [75, 77, 57],\n",
              "       [26, 33, 68]])"
            ]
          },
          "execution_count": 18,
          "metadata": {},
          "output_type": "execute_result"
        }
      ],
      "source": [
        "# Number of elements in the newly shaped array should be equal to the number of elements in the original array\n",
        "# If elements arent equal you will get an error\n",
        "np.random.seed(6)\n",
        "z = np.random.randint(0,100,(5,3))\n",
        "z"
      ]
    },
    {
      "cell_type": "code",
      "execution_count": 76,
      "metadata": {
        "colab": {
          "base_uri": "https://localhost:8080/"
        },
        "id": "Mfulahuu89PW",
        "outputId": "41ef58cd-5303-4fbe-9cec-91b8ff080b9c"
      },
      "outputs": [
        {
          "data": {
            "text/plain": [
              "array([[10, 73, 99, 84, 79],\n",
              "       [80, 62, 25,  1, 75],\n",
              "       [77, 57, 26, 33, 68]])"
            ]
          },
          "execution_count": 76,
          "metadata": {},
          "output_type": "execute_result"
        }
      ],
      "source": [
        "z.reshape(3,5)"
      ]
    },
    {
      "cell_type": "code",
      "execution_count": 77,
      "metadata": {
        "colab": {
          "base_uri": "https://localhost:8080/",
          "height": 167
        },
        "id": "MGHRs3as9G6T",
        "outputId": "93ff707d-1a98-4fde-9e4f-cf414202efc7"
      },
      "outputs": [
        {
          "ename": "ValueError",
          "evalue": "cannot reshape array of size 15 into shape (3,6)",
          "output_type": "error",
          "traceback": [
            "\u001b[0;31m---------------------------------------------------------------------------\u001b[0m",
            "\u001b[0;31mValueError\u001b[0m                                Traceback (most recent call last)",
            "Cell \u001b[0;32mIn[77], line 1\u001b[0m\n\u001b[0;32m----> 1\u001b[0m z\u001b[39m.\u001b[39;49mreshape(\u001b[39m3\u001b[39;49m,\u001b[39m6\u001b[39;49m)\n",
            "\u001b[0;31mValueError\u001b[0m: cannot reshape array of size 15 into shape (3,6)"
          ]
        }
      ],
      "source": [
        "z.reshape(3,6)"
      ]
    },
    {
      "cell_type": "code",
      "execution_count": 63,
      "metadata": {
        "colab": {
          "base_uri": "https://localhost:8080/",
          "height": 167
        },
        "id": "h9KYvk939LuR",
        "outputId": "e86e7e88-1b93-428b-9f56-04c0378db99f"
      },
      "outputs": [
        {
          "ename": "ValueError",
          "evalue": "ignored",
          "output_type": "error",
          "traceback": [
            "\u001b[0;31m---------------------------------------------------------------------------\u001b[0m",
            "\u001b[0;31mValueError\u001b[0m                                Traceback (most recent call last)",
            "\u001b[0;32m<ipython-input-63-ed07b7bed56b>\u001b[0m in \u001b[0;36m<module>\u001b[0;34m()\u001b[0m\n\u001b[0;32m----> 1\u001b[0;31m \u001b[0mz\u001b[0m\u001b[0;34m.\u001b[0m\u001b[0mreshape\u001b[0m\u001b[0;34m(\u001b[0m\u001b[0;36m3\u001b[0m\u001b[0;34m,\u001b[0m\u001b[0;36m2\u001b[0m\u001b[0;34m)\u001b[0m\u001b[0;34m\u001b[0m\u001b[0;34m\u001b[0m\u001b[0m\n\u001b[0m",
            "\u001b[0;31mValueError\u001b[0m: cannot reshape array of size 15 into shape (3,2)"
          ]
        }
      ],
      "source": [
        "z.reshape(3,2)"
      ]
    },
    {
      "cell_type": "code",
      "execution_count": 83,
      "metadata": {
        "id": "BL0jAsBj9OVf"
      },
      "outputs": [],
      "source": [
        "#concatenate\n",
        "np.random.seed(0)\n",
        "a = np.random.randint(0,100,(2,3))\n",
        "b = np.random.randint(5,500,(2,3))"
      ]
    },
    {
      "cell_type": "code",
      "execution_count": 92,
      "metadata": {
        "colab": {
          "base_uri": "https://localhost:8080/"
        },
        "id": "8VPiC5Do9mxR",
        "outputId": "c1b7026c-1b5f-4f96-efdd-a141e8cc014f"
      },
      "outputs": [
        {
          "data": {
            "text/plain": [
              "array([[44, 47, 64],\n",
              "       [67, 67,  9]])"
            ]
          },
          "execution_count": 92,
          "metadata": {},
          "output_type": "execute_result"
        }
      ],
      "source": [
        "a"
      ]
    },
    {
      "cell_type": "code",
      "execution_count": 89,
      "metadata": {
        "colab": {
          "base_uri": "https://localhost:8080/"
        },
        "id": "isjbCqPd9nUi",
        "outputId": "2d59032e-32ae-4da2-bb07-9036c34711fe"
      },
      "outputs": [
        {
          "data": {
            "text/plain": [
              "array([[216, 282, 247],\n",
              "       [297,  92,  75]])"
            ]
          },
          "execution_count": 89,
          "metadata": {},
          "output_type": "execute_result"
        }
      ],
      "source": [
        "b"
      ]
    },
    {
      "cell_type": "code",
      "execution_count": 86,
      "metadata": {
        "colab": {
          "base_uri": "https://localhost:8080/"
        },
        "id": "3csksWtA9fNw",
        "outputId": "6611e2b3-e316-4ecc-a028-1905175ec72a"
      },
      "outputs": [
        {
          "data": {
            "text/plain": [
              "array([[ 44,  47,  64],\n",
              "       [ 67,  67,   9],\n",
              "       [216, 282, 247],\n",
              "       [297,  92,  75]])"
            ]
          },
          "execution_count": 86,
          "metadata": {},
          "output_type": "execute_result"
        }
      ],
      "source": [
        "# Places arrays on top of each other\n",
        "np.concatenate([a,b])"
      ]
    },
    {
      "cell_type": "code",
      "execution_count": 69,
      "metadata": {
        "colab": {
          "base_uri": "https://localhost:8080/"
        },
        "id": "haB2EF6E9ipU",
        "outputId": "21f88e18-23a5-4c03-c78d-63cac77c0c90"
      },
      "outputs": [
        {
          "data": {
            "text/plain": [
              "array([[ 44,  47,  64, 216, 282, 247],\n",
              "       [ 67,  67,   9, 297,  92,  75]])"
            ]
          },
          "execution_count": 69,
          "metadata": {},
          "output_type": "execute_result"
        }
      ],
      "source": [
        "# Places arrays next to each other\n",
        "np.concatenate([a,b],axis=1)"
      ]
    },
    {
      "cell_type": "code",
      "execution_count": 87,
      "metadata": {
        "colab": {
          "base_uri": "https://localhost:8080/"
        },
        "id": "8IqmtQ_U907Z",
        "outputId": "b14116f5-d551-4897-9bfb-9048131e951b"
      },
      "outputs": [
        {
          "data": {
            "text/plain": [
              "array([[ 44,  47,  64],\n",
              "       [ 67,  67,   9],\n",
              "       [216, 282, 247],\n",
              "       [297,  92,  75]])"
            ]
          },
          "execution_count": 87,
          "metadata": {},
          "output_type": "execute_result"
        }
      ],
      "source": [
        "# Vertical Stack\n",
        "np.vstack([a,b])"
      ]
    },
    {
      "cell_type": "code",
      "execution_count": 90,
      "metadata": {
        "colab": {
          "base_uri": "https://localhost:8080/"
        },
        "id": "QVGGKxkY98IL",
        "outputId": "d0531400-a082-46b2-b159-f77efe392fe8"
      },
      "outputs": [],
      "source": [
        "# Horisontal Stack\n",
        "np.hstack([a,b])"
      ]
    },
    {
      "cell_type": "markdown",
      "metadata": {
        "id": "70_6uwU7-1je"
      },
      "source": [
        "## Mathematical Operations on Numpy Arrays"
      ]
    },
    {
      "cell_type": "code",
      "execution_count": 4,
      "metadata": {
        "id": "IhlFZ61e9_b5"
      },
      "outputs": [],
      "source": [
        "x = np.arange(4)"
      ]
    },
    {
      "cell_type": "code",
      "execution_count": 7,
      "metadata": {
        "colab": {
          "base_uri": "https://localhost:8080/"
        },
        "id": "tu78O49X_k7k",
        "outputId": "d1484bbe-4a6d-435c-ccb9-4ebaa161e89c"
      },
      "outputs": [
        {
          "data": {
            "text/plain": [
              "array([0, 1, 2, 3])"
            ]
          },
          "execution_count": 7,
          "metadata": {},
          "output_type": "execute_result"
        }
      ],
      "source": [
        "x"
      ]
    },
    {
      "cell_type": "code",
      "execution_count": 6,
      "metadata": {
        "colab": {
          "base_uri": "https://localhost:8080/"
        },
        "id": "CEmVinZC_lPl",
        "outputId": "7300ef9b-9f32-456b-e5f1-ef7c6cc654da"
      },
      "outputs": [
        {
          "data": {
            "text/plain": [
              "array([5, 6, 7, 8])"
            ]
          },
          "execution_count": 6,
          "metadata": {},
          "output_type": "execute_result"
        }
      ],
      "source": [
        "x + 5"
      ]
    },
    {
      "cell_type": "code",
      "execution_count": 8,
      "metadata": {
        "colab": {
          "base_uri": "https://localhost:8080/"
        },
        "id": "3gnoA8SB_nEh",
        "outputId": "36da7e6f-74dc-4b0f-a6b9-64faf8f0427e"
      },
      "outputs": [
        {
          "data": {
            "text/plain": [
              "array([-2, -1,  0,  1])"
            ]
          },
          "execution_count": 8,
          "metadata": {},
          "output_type": "execute_result"
        }
      ],
      "source": [
        "x - 2"
      ]
    },
    {
      "cell_type": "code",
      "execution_count": 9,
      "metadata": {
        "colab": {
          "base_uri": "https://localhost:8080/"
        },
        "id": "eGK1pnLl_pRG",
        "outputId": "3ffa1e1b-29e6-4d3e-e283-bc76a7e033ee"
      },
      "outputs": [
        {
          "data": {
            "text/plain": [
              "array([0. , 0.5, 1. , 1.5])"
            ]
          },
          "execution_count": 9,
          "metadata": {},
          "output_type": "execute_result"
        }
      ],
      "source": [
        "x / 2"
      ]
    },
    {
      "cell_type": "code",
      "execution_count": 10,
      "metadata": {
        "colab": {
          "base_uri": "https://localhost:8080/"
        },
        "id": "X6YvX56z_qZV",
        "outputId": "387877f5-d488-45fd-fa30-ef8df4389377"
      },
      "outputs": [
        {
          "data": {
            "text/plain": [
              "array([0, 2, 4, 6])"
            ]
          },
          "execution_count": 10,
          "metadata": {},
          "output_type": "execute_result"
        }
      ],
      "source": [
        "x*2"
      ]
    },
    {
      "cell_type": "code",
      "execution_count": 13,
      "metadata": {
        "colab": {
          "base_uri": "https://localhost:8080/"
        },
        "id": "W9j5yz71_rW5",
        "outputId": "84c21994-d43f-47b1-b839-d1b1158afe56"
      },
      "outputs": [
        {
          "data": {
            "text/plain": [
              "array([0, 0, 1, 1])"
            ]
          },
          "execution_count": 13,
          "metadata": {},
          "output_type": "execute_result"
        }
      ],
      "source": [
        "# Flooor Division (returns the largest possible integer)\n",
        "x // 2"
      ]
    },
    {
      "cell_type": "code",
      "execution_count": 12,
      "metadata": {
        "colab": {
          "base_uri": "https://localhost:8080/"
        },
        "id": "vsyTouz9_sfo",
        "outputId": "309c01f0-d08c-4f3d-d79b-2f08026c0a20"
      },
      "outputs": [
        {
          "data": {
            "text/plain": [
              "array([0, 1, 0, 1])"
            ]
          },
          "execution_count": 12,
          "metadata": {},
          "output_type": "execute_result"
        }
      ],
      "source": [
        "x %2"
      ]
    },
    {
      "cell_type": "code",
      "execution_count": 80,
      "metadata": {
        "colab": {
          "base_uri": "https://localhost:8080/"
        },
        "id": "Slkkw_MM_v5k",
        "outputId": "4f1cd7e4-1839-4fff-c4aa-71977c1d1e3a"
      },
      "outputs": [
        {
          "data": {
            "text/plain": [
              "array([0, 1, 4, 9])"
            ]
          },
          "execution_count": 80,
          "metadata": {},
          "output_type": "execute_result"
        }
      ],
      "source": [
        "x**2"
      ]
    },
    {
      "cell_type": "code",
      "execution_count": 14,
      "metadata": {
        "colab": {
          "base_uri": "https://localhost:8080/"
        },
        "id": "K4O2OXu9_xlB",
        "outputId": "7ee9d300-13fe-4f47-96f6-98f46ded8fc5"
      },
      "outputs": [
        {
          "data": {
            "text/plain": [
              "array([2, 3, 4, 5])"
            ]
          },
          "execution_count": 14,
          "metadata": {},
          "output_type": "execute_result"
        }
      ],
      "source": [
        "np.add(x,2)"
      ]
    },
    {
      "cell_type": "code",
      "execution_count": 15,
      "metadata": {
        "colab": {
          "base_uri": "https://localhost:8080/"
        },
        "id": "my-ExnsS_1ya",
        "outputId": "6d6fd746-496b-4d0d-b80f-3da20f5ee843"
      },
      "outputs": [
        {
          "data": {
            "text/plain": [
              "array([-2, -1,  0,  1])"
            ]
          },
          "execution_count": 15,
          "metadata": {},
          "output_type": "execute_result"
        }
      ],
      "source": [
        "np.subtract(x,2)"
      ]
    },
    {
      "cell_type": "markdown",
      "metadata": {
        "id": "k4nqxpPp_9lp"
      },
      "source": [
        "## Boolean Indexing"
      ]
    },
    {
      "cell_type": "code",
      "execution_count": 19,
      "metadata": {
        "colab": {
          "base_uri": "https://localhost:8080/"
        },
        "id": "7simVzn2_45b",
        "outputId": "8126a7c1-a253-42c2-b037-2cbb7dda42c0"
      },
      "outputs": [
        {
          "data": {
            "text/plain": [
              "array([[10, 73, 99],\n",
              "       [84, 79, 80],\n",
              "       [62, 25,  1],\n",
              "       [75, 77, 57],\n",
              "       [26, 33, 68]])"
            ]
          },
          "execution_count": 19,
          "metadata": {},
          "output_type": "execute_result"
        }
      ],
      "source": [
        "z"
      ]
    },
    {
      "cell_type": "code",
      "execution_count": 20,
      "metadata": {
        "colab": {
          "base_uri": "https://localhost:8080/"
        },
        "id": "9FKxqqH0ABt-",
        "outputId": "08d244ea-a4b5-4b9c-f75e-aa254294e086"
      },
      "outputs": [
        {
          "data": {
            "text/plain": [
              "array([[False,  True,  True],\n",
              "       [ True,  True,  True],\n",
              "       [ True, False, False],\n",
              "       [ True,  True,  True],\n",
              "       [False, False,  True]])"
            ]
          },
          "execution_count": 20,
          "metadata": {},
          "output_type": "execute_result"
        }
      ],
      "source": [
        "z > 50"
      ]
    },
    {
      "cell_type": "code",
      "execution_count": 21,
      "metadata": {
        "colab": {
          "base_uri": "https://localhost:8080/"
        },
        "id": "xGIGazzeAKcA",
        "outputId": "c6e4061b-509a-4757-fd45-33c33690eb8a"
      },
      "outputs": [
        {
          "data": {
            "text/plain": [
              "array([73, 99, 84, 79, 80, 62, 75, 77, 57, 68])"
            ]
          },
          "execution_count": 21,
          "metadata": {},
          "output_type": "execute_result"
        }
      ],
      "source": [
        "z[z > 50]"
      ]
    },
    {
      "cell_type": "code",
      "execution_count": 22,
      "metadata": {
        "colab": {
          "base_uri": "https://localhost:8080/"
        },
        "id": "BnL5YxSCANMs",
        "outputId": "b8aa8414-b53c-431f-b749-1f3763ca6047"
      },
      "outputs": [
        {
          "data": {
            "text/plain": [
              "array([[2.20264658e+04, 5.05239363e+31, 9.88903032e+42],\n",
              "       [3.02507732e+36, 2.03828107e+34, 5.54062238e+34],\n",
              "       [8.43835667e+26, 7.20048993e+10, 2.71828183e+00],\n",
              "       [3.73324200e+32, 2.75851345e+33, 5.68572000e+24],\n",
              "       [1.95729609e+11, 2.14643580e+14, 3.40427605e+29]])"
            ]
          },
          "execution_count": 22,
          "metadata": {},
          "output_type": "execute_result"
        }
      ],
      "source": [
        "np.exp(z)"
      ]
    },
    {
      "cell_type": "code",
      "execution_count": 88,
      "metadata": {
        "colab": {
          "base_uri": "https://localhost:8080/"
        },
        "id": "kYYgCUaYAZD3",
        "outputId": "ff9a2863-bd3a-4e4e-af00-677a78db95dd"
      },
      "outputs": [
        {
          "data": {
            "text/plain": [
              "array([[1.02400000e+03, 9.44473297e+21, 6.33825300e+29],\n",
              "       [1.93428131e+25, 6.04462910e+23, 1.20892582e+24],\n",
              "       [4.61168602e+18, 3.35544320e+07, 2.00000000e+00],\n",
              "       [3.77789319e+22, 1.51115727e+23, 1.44115188e+17],\n",
              "       [6.71088640e+07, 8.58993459e+09, 2.95147905e+20]])"
            ]
          },
          "execution_count": 88,
          "metadata": {},
          "output_type": "execute_result"
        }
      ],
      "source": [
        "np.exp2(z)"
      ]
    },
    {
      "cell_type": "code",
      "execution_count": 23,
      "metadata": {
        "colab": {
          "base_uri": "https://localhost:8080/"
        },
        "id": "K_S4Kl6LAbq_",
        "outputId": "62ae615e-1f0c-4cd2-afce-0b6ab51bb6de"
      },
      "outputs": [
        {
          "name": "stderr",
          "output_type": "stream",
          "text": [
            "/tmp/ipykernel_2380139/1277889159.py:1: RuntimeWarning: divide by zero encountered in log\n",
            "  np.log(x)\n"
          ]
        },
        {
          "data": {
            "text/plain": [
              "array([      -inf, 0.        , 0.69314718, 1.09861229])"
            ]
          },
          "execution_count": 23,
          "metadata": {},
          "output_type": "execute_result"
        }
      ],
      "source": [
        "np.log(x)"
      ]
    },
    {
      "cell_type": "code",
      "execution_count": 24,
      "metadata": {
        "colab": {
          "base_uri": "https://localhost:8080/"
        },
        "id": "rXocE7erAeVz",
        "outputId": "246d6bdc-bfee-4971-c64d-e38cda902aa4"
      },
      "outputs": [
        {
          "data": {
            "text/plain": [
              "849"
            ]
          },
          "execution_count": 24,
          "metadata": {},
          "output_type": "execute_result"
        }
      ],
      "source": [
        "np.sum(z)"
      ]
    },
    {
      "cell_type": "code",
      "execution_count": 25,
      "metadata": {
        "colab": {
          "base_uri": "https://localhost:8080/"
        },
        "id": "-LThzHpEAoEW",
        "outputId": "0f9002e1-d35d-4837-fcbf-c39184abbc59"
      },
      "outputs": [
        {
          "data": {
            "text/plain": [
              "835.7066666666666"
            ]
          },
          "execution_count": 25,
          "metadata": {},
          "output_type": "execute_result"
        }
      ],
      "source": [
        "# Variance\n",
        "np.var(z)"
      ]
    },
    {
      "cell_type": "code",
      "execution_count": 92,
      "metadata": {
        "colab": {
          "base_uri": "https://localhost:8080/"
        },
        "id": "lu49KJOzApxU",
        "outputId": "f05b89fd-357d-44f6-b041-5851a3904680"
      },
      "outputs": [
        {
          "data": {
            "text/plain": [
              "28.9085915718263"
            ]
          },
          "execution_count": 92,
          "metadata": {},
          "output_type": "execute_result"
        }
      ],
      "source": [
        "# Standard Deviation\n",
        "np.std(z)"
      ]
    },
    {
      "cell_type": "code",
      "execution_count": 26,
      "metadata": {
        "colab": {
          "base_uri": "https://localhost:8080/"
        },
        "id": "RRQ12B53ArSA",
        "outputId": "10bed975-16b5-4029-f379-a92c733556d7"
      },
      "outputs": [
        {
          "data": {
            "text/plain": [
              "array([28.60489469, 23.40598214, 33.07567082])"
            ]
          },
          "execution_count": 26,
          "metadata": {},
          "output_type": "execute_result"
        }
      ],
      "source": [
        "np.std(z,axis=0)"
      ]
    },
    {
      "cell_type": "code",
      "execution_count": 27,
      "metadata": {
        "colab": {
          "base_uri": "https://localhost:8080/"
        },
        "id": "vSk02OJYAu78",
        "outputId": "f3f12c84-4a81-4974-8c7b-a290774d791c"
      },
      "outputs": [
        {
          "data": {
            "text/plain": [
              "1"
            ]
          },
          "execution_count": 27,
          "metadata": {},
          "output_type": "execute_result"
        }
      ],
      "source": [
        "np.min(z)"
      ]
    },
    {
      "cell_type": "code",
      "execution_count": 28,
      "metadata": {
        "colab": {
          "base_uri": "https://localhost:8080/"
        },
        "id": "FZmRNmFXAw-d",
        "outputId": "da2ef7b9-6b4f-4518-a99c-2da0508197c8"
      },
      "outputs": [
        {
          "data": {
            "text/plain": [
              "99"
            ]
          },
          "execution_count": 28,
          "metadata": {},
          "output_type": "execute_result"
        }
      ],
      "source": [
        "np.max(z)"
      ]
    },
    {
      "cell_type": "code",
      "execution_count": 29,
      "metadata": {
        "colab": {
          "base_uri": "https://localhost:8080/"
        },
        "id": "Ui1u08oiAyJV",
        "outputId": "a76ca4dc-8590-4373-985f-f03697f9a612"
      },
      "outputs": [
        {
          "data": {
            "text/plain": [
              "8"
            ]
          },
          "execution_count": 29,
          "metadata": {},
          "output_type": "execute_result"
        }
      ],
      "source": [
        "# Return the index of the min value\n",
        "np.argmin(z)"
      ]
    },
    {
      "cell_type": "code",
      "execution_count": 97,
      "metadata": {
        "colab": {
          "base_uri": "https://localhost:8080/"
        },
        "id": "dsqiyxNAA0DX",
        "outputId": "3e7eafdc-9346-4f65-c60b-3487986a2c39"
      },
      "outputs": [
        {
          "data": {
            "text/plain": [
              "2"
            ]
          },
          "execution_count": 97,
          "metadata": {},
          "output_type": "execute_result"
        }
      ],
      "source": [
        "# Return the index of the max value\n",
        "np.argmax(z)"
      ]
    },
    {
      "cell_type": "code",
      "execution_count": null,
      "metadata": {
        "id": "AkVXdocWA1Oj"
      },
      "outputs": [],
      "source": []
    }
  ],
  "metadata": {
    "colab": {
      "collapsed_sections": [],
      "name": "Numpy for Machine Learning.ipynb",
      "provenance": []
    },
    "kernelspec": {
      "display_name": "Python 3",
      "name": "python3"
    },
    "language_info": {
      "codemirror_mode": {
        "name": "ipython",
        "version": 3
      },
      "file_extension": ".py",
      "mimetype": "text/x-python",
      "name": "python",
      "nbconvert_exporter": "python",
      "pygments_lexer": "ipython3",
      "version": "3.9.13"
    }
  },
  "nbformat": 4,
  "nbformat_minor": 0
}
