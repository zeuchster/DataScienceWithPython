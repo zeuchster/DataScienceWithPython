{
  "cells": [
    {
      "cell_type": "markdown",
      "metadata": {
        "id": "hkTbzDiuadFW"
      },
      "source": [
        "# Linear Regression"
      ]
    },
    {
      "cell_type": "code",
      "execution_count": 1,
      "metadata": {
        "id": "dtiQk5SKUvq9"
      },
      "outputs": [],
      "source": [
        "import numpy as np\n",
        "import pandas as pd\n",
        "import matplotlib.pyplot as plt\n",
        "from sklearn.metrics import mean_squared_error,r2_score\n",
        "from sklearn.model_selection import train_test_split\n",
        "from sklearn.linear_model import LinearRegression"
      ]
    },
    {
      "cell_type": "code",
      "execution_count": 2,
      "metadata": {
        "id": "vLazhft5o1cg"
      },
      "outputs": [],
      "source": [
        "df = pd.read_csv(\"housing.csv\")"
      ]
    },
    {
      "cell_type": "code",
      "execution_count": 3,
      "metadata": {
        "colab": {
          "base_uri": "https://localhost:8080/",
          "height": 206
        },
        "id": "WTfmFz52pHnb",
        "outputId": "d1a615fb-a3b0-4dab-fe6a-49181e1091ae"
      },
      "outputs": [
        {
          "data": {
            "text/html": [
              "<div>\n",
              "<style scoped>\n",
              "    .dataframe tbody tr th:only-of-type {\n",
              "        vertical-align: middle;\n",
              "    }\n",
              "\n",
              "    .dataframe tbody tr th {\n",
              "        vertical-align: top;\n",
              "    }\n",
              "\n",
              "    .dataframe thead th {\n",
              "        text-align: right;\n",
              "    }\n",
              "</style>\n",
              "<table border=\"1\" class=\"dataframe\">\n",
              "  <thead>\n",
              "    <tr style=\"text-align: right;\">\n",
              "      <th></th>\n",
              "      <th>Built-up Area (sqft)</th>\n",
              "      <th>Value ($1000)</th>\n",
              "    </tr>\n",
              "  </thead>\n",
              "  <tbody>\n",
              "    <tr>\n",
              "      <th>0</th>\n",
              "      <td>665.0</td>\n",
              "      <td>161.0</td>\n",
              "    </tr>\n",
              "    <tr>\n",
              "      <th>1</th>\n",
              "      <td>442.0</td>\n",
              "      <td>83.0</td>\n",
              "    </tr>\n",
              "    <tr>\n",
              "      <th>2</th>\n",
              "      <td>302.0</td>\n",
              "      <td>53.0</td>\n",
              "    </tr>\n",
              "    <tr>\n",
              "      <th>3</th>\n",
              "      <td>336.0</td>\n",
              "      <td>57.0</td>\n",
              "    </tr>\n",
              "    <tr>\n",
              "      <th>4</th>\n",
              "      <td>673.0</td>\n",
              "      <td>152.0</td>\n",
              "    </tr>\n",
              "  </tbody>\n",
              "</table>\n",
              "</div>"
            ],
            "text/plain": [
              "   Built-up Area (sqft)  Value ($1000)\n",
              "0                 665.0          161.0\n",
              "1                 442.0           83.0\n",
              "2                 302.0           53.0\n",
              "3                 336.0           57.0\n",
              "4                 673.0          152.0"
            ]
          },
          "execution_count": 3,
          "metadata": {},
          "output_type": "execute_result"
        }
      ],
      "source": [
        "df.head()"
      ]
    },
    {
      "cell_type": "code",
      "execution_count": 14,
      "metadata": {
        "id": "5ByRYVbGpJbH"
      },
      "outputs": [
        {
          "data": {
            "text/plain": [
              "144    452.0\n",
              "145    453.0\n",
              "146    566.0\n",
              "147    483.0\n",
              "148    552.0\n",
              "Name: Built-up Area (sqft), dtype: float64"
            ]
          },
          "execution_count": 14,
          "metadata": {},
          "output_type": "execute_result"
        }
      ],
      "source": [
        "X = df[\"Built-up Area (sqft)\"]\n",
        "y = df[\"Value ($1000)\"]"
      ]
    },
    {
      "cell_type": "code",
      "execution_count": 12,
      "metadata": {
        "id": "SZeNE6-jpl2g"
      },
      "outputs": [],
      "source": [
        "# random_state acts similar to setting the seed for np\n",
        "X_train,X_test,y_train,y_test = train_test_split(X,y,test_size=0.2, random_state=42)"
      ]
    },
    {
      "cell_type": "code",
      "execution_count": 9,
      "metadata": {
        "colab": {
          "base_uri": "https://localhost:8080/"
        },
        "id": "NqUvTAQDqHlS",
        "outputId": "7df85db4-7c3e-44e6-c4d3-6efcd97112e2"
      },
      "outputs": [
        {
          "data": {
            "text/plain": [
              "((149,), (119,), (30,))"
            ]
          },
          "execution_count": 9,
          "metadata": {},
          "output_type": "execute_result"
        }
      ],
      "source": [
        "X.shape,X_train.shape,X_test.shape"
      ]
    },
    {
      "cell_type": "code",
      "execution_count": 13,
      "metadata": {
        "colab": {
          "base_uri": "https://localhost:8080/"
        },
        "id": "kF7FZIbPqZ--",
        "outputId": "3957ca4d-9979-47a8-87b5-19a4eda2e4c6"
      },
      "outputs": [
        {
          "data": {
            "text/plain": [
              "array([691., 468., 393., 315., 524., 459., 496., 484., 673., 690., 444.,\n",
              "       627., 366., 360., 261., 690., 536., 445., 385., 463., 444., 348.,\n",
              "       324., 665., 542., 650., 412., 630., 335., 639., 523., 393., 570.,\n",
              "       231., 529., 504., 676., 497., 652., 518., 358., 470., 673., 453.,\n",
              "       467., 495., 625., 493., 651., 483., 605., 416., 594., 509., 346.,\n",
              "       481., 416., 361., 392., 419., 497., 540., 453., 407., 561., 448.,\n",
              "       420., 444., 585., 336., 525., 598., 301., 488., 407., 408., 416.,\n",
              "       302., 540., 300., 488., 487., 455., 409., 321., 428., 566., 670.,\n",
              "       633., 608., 663., 552., 210., 284., 589., 661., 582., 479., 620.,\n",
              "       673., 396., 262., 538., 442., 472., 543., 330., 489., 486., 406.,\n",
              "       431., 436., 552., 250., 640., 233., 410., 362., 359.])"
            ]
          },
          "execution_count": 13,
          "metadata": {},
          "output_type": "execute_result"
        }
      ],
      "source": [
        "X_train.values"
      ]
    },
    {
      "cell_type": "code",
      "execution_count": 15,
      "metadata": {
        "colab": {
          "base_uri": "https://localhost:8080/",
          "height": 295
        },
        "id": "YVpr-J-6qLuz",
        "outputId": "d34d8fd2-8b68-4fca-b4f6-340e13de75c9"
      },
      "outputs": [
        {
          "data": {
            "image/png": "[encoded data removed]",
            "text/plain": [
              "<Figure size 640x480 with 1 Axes>"
            ]
          },
          "metadata": {},
          "output_type": "display_data"
        }
      ],
      "source": [
        "plt.scatter(X_train.values,y_train.values, s= 12)\n",
        "plt.title(\"House Price Vs Floor Area\")\n",
        "plt.xlabel(\"Floor Area\")\n",
        "plt.ylabel(\"Price in 1000$\")\n",
        "plt.show()"
      ]
    },
    {
      "cell_type": "code",
      "execution_count": 19,
      "metadata": {
        "colab": {
          "base_uri": "https://localhost:8080/"
        },
        "id": "oqxa00fYquCd",
        "outputId": "ef93eec4-14aa-40d0-b1b0-bdd67e451733"
      },
      "outputs": [
        {
          "data": {
            "text/html": [
              "<style>#sk-container-id-1 {color: black;background-color: white;}#sk-container-id-1 pre{padding: 0;}#sk-container-id-1 div.sk-toggleable {background-color: white;}#sk-container-id-1 label.sk-toggleable__label {cursor: pointer;display: block;width: 100%;margin-bottom: 0;padding: 0.3em;box-sizing: border-box;text-align: center;}#sk-container-id-1 label.sk-toggleable__label-arrow:before {content: \"▸\";float: left;margin-right: 0.25em;color: #696969;}#sk-container-id-1 label.sk-toggleable__label-arrow:hover:before {color: black;}#sk-container-id-1 div.sk-estimator:hover label.sk-toggleable__label-arrow:before {color: black;}#sk-container-id-1 div.sk-toggleable__content {max-height: 0;max-width: 0;overflow: hidden;text-align: left;background-color: #f0f8ff;}#sk-container-id-1 div.sk-toggleable__content pre {margin: 0.2em;color: black;border-radius: 0.25em;background-color: #f0f8ff;}#sk-container-id-1 input.sk-toggleable__control:checked~div.sk-toggleable__content {max-height: 200px;max-width: 100%;overflow: auto;}#sk-container-id-1 input.sk-toggleable__control:checked~label.sk-toggleable__label-arrow:before {content: \"▾\";}#sk-container-id-1 div.sk-estimator input.sk-toggleable__control:checked~label.sk-toggleable__label {background-color: #d4ebff;}#sk-container-id-1 div.sk-label input.sk-toggleable__control:checked~label.sk-toggleable__label {background-color: #d4ebff;}#sk-container-id-1 input.sk-hidden--visually {border: 0;clip: rect(1px 1px 1px 1px);clip: rect(1px, 1px, 1px, 1px);height: 1px;margin: -1px;overflow: hidden;padding: 0;position: absolute;width: 1px;}#sk-container-id-1 div.sk-estimator {font-family: monospace;background-color: #f0f8ff;border: 1px dotted black;border-radius: 0.25em;box-sizing: border-box;margin-bottom: 0.5em;}#sk-container-id-1 div.sk-estimator:hover {background-color: #d4ebff;}#sk-container-id-1 div.sk-parallel-item::after {content: \"\";width: 100%;border-bottom: 1px solid gray;flex-grow: 1;}#sk-container-id-1 div.sk-label:hover label.sk-toggleable__label {background-color: #d4ebff;}#sk-container-id-1 div.sk-serial::before {content: \"\";position: absolute;border-left: 1px solid gray;box-sizing: border-box;top: 0;bottom: 0;left: 50%;z-index: 0;}#sk-container-id-1 div.sk-serial {display: flex;flex-direction: column;align-items: center;background-color: white;padding-right: 0.2em;padding-left: 0.2em;position: relative;}#sk-container-id-1 div.sk-item {position: relative;z-index: 1;}#sk-container-id-1 div.sk-parallel {display: flex;align-items: stretch;justify-content: center;background-color: white;position: relative;}#sk-container-id-1 div.sk-item::before, #sk-container-id-1 div.sk-parallel-item::before {content: \"\";position: absolute;border-left: 1px solid gray;box-sizing: border-box;top: 0;bottom: 0;left: 50%;z-index: -1;}#sk-container-id-1 div.sk-parallel-item {display: flex;flex-direction: column;z-index: 1;position: relative;background-color: white;}#sk-container-id-1 div.sk-parallel-item:first-child::after {align-self: flex-end;width: 50%;}#sk-container-id-1 div.sk-parallel-item:last-child::after {align-self: flex-start;width: 50%;}#sk-container-id-1 div.sk-parallel-item:only-child::after {width: 0;}#sk-container-id-1 div.sk-dashed-wrapped {border: 1px dashed gray;margin: 0 0.4em 0.5em 0.4em;box-sizing: border-box;padding-bottom: 0.4em;background-color: white;}#sk-container-id-1 div.sk-label label {font-family: monospace;font-weight: bold;display: inline-block;line-height: 1.2em;}#sk-container-id-1 div.sk-label-container {text-align: center;}#sk-container-id-1 div.sk-container {/* jupyter's `normalize.less` sets `[hidden] { display: none; }` but bootstrap.min.css set `[hidden] { display: none !important; }` so we also need the `!important` here to be able to override the default hidden behavior on the sphinx rendered scikit-learn.org. See: https://github.com/scikit-learn/scikit-learn/issues/21755 */display: inline-block !important;position: relative;}#sk-container-id-1 div.sk-text-repr-fallback {display: none;}</style><div id=\"sk-container-id-1\" class=\"sk-top-container\"><div class=\"sk-text-repr-fallback\"><pre>LinearRegression()</pre><b>In a Jupyter environment, please rerun this cell to show the HTML representation or trust the notebook. <br />On GitHub, the HTML representation is unable to render, please try loading this page with nbviewer.org.</b></div><div class=\"sk-container\" hidden><div class=\"sk-item\"><div class=\"sk-estimator sk-toggleable\"><input class=\"sk-toggleable__control sk-hidden--visually\" id=\"sk-estimator-id-1\" type=\"checkbox\" checked><label for=\"sk-estimator-id-1\" class=\"sk-toggleable__label sk-toggleable__label-arrow\">LinearRegression</label><div class=\"sk-toggleable__content\"><pre>LinearRegression()</pre></div></div></div></div></div>"
            ],
            "text/plain": [
              "LinearRegression()"
            ]
          },
          "execution_count": 19,
          "metadata": {},
          "output_type": "execute_result"
        }
      ],
      "source": [
        "lr = LinearRegression()\n",
        "lr.fit(X_train.values.reshape(-1,1),y_train.values.reshape(-1,1))"
      ]
    },
    {
      "cell_type": "code",
      "execution_count": 20,
      "metadata": {
        "colab": {
          "base_uri": "https://localhost:8080/"
        },
        "id": "6-eQrMZTrHQ-",
        "outputId": "f4a2ac38-d1e7-4b42-bf95-452b09b63860"
      },
      "outputs": [
        {
          "name": "stdout",
          "output_type": "stream",
          "text": [
            "[-29.65146489]\n"
          ]
        }
      ],
      "source": [
        "print(lr.intercept_)"
      ]
    },
    {
      "cell_type": "code",
      "execution_count": 21,
      "metadata": {
        "colab": {
          "base_uri": "https://localhost:8080/"
        },
        "id": "NOjGNP_BrghM",
        "outputId": "8007b593-4b28-4325-dc52-209853b996de"
      },
      "outputs": [
        {
          "name": "stdout",
          "output_type": "stream",
          "text": [
            "[[0.2640654]]\n"
          ]
        }
      ],
      "source": [
        "print(lr.coef_)"
      ]
    },
    {
      "cell_type": "code",
      "execution_count": 22,
      "metadata": {
        "colab": {
          "base_uri": "https://localhost:8080/"
        },
        "id": "KBWMFJDWriWu",
        "outputId": "cc229266-74d6-459c-88bb-d1f7f0682414"
      },
      "outputs": [
        {
          "data": {
            "text/plain": [
              "array([[49.56815401]])"
            ]
          },
          "execution_count": 22,
          "metadata": {},
          "output_type": "execute_result"
        }
      ],
      "source": [
        "#floor area  = 300 sqft\n",
        "lr.predict([[300]])"
      ]
    },
    {
      "cell_type": "code",
      "execution_count": 23,
      "metadata": {
        "colab": {
          "base_uri": "https://localhost:8080/"
        },
        "id": "xuddByeysPpb",
        "outputId": "63cc9750-e295-4a8d-e873-6720d0fdefcf"
      },
      "outputs": [
        {
          "data": {
            "text/plain": [
              "array([[102.38123328]])"
            ]
          },
          "execution_count": 23,
          "metadata": {},
          "output_type": "execute_result"
        }
      ],
      "source": [
        "# floor area = 500sqft\n",
        "lr.predict([[500]])"
      ]
    },
    {
      "cell_type": "code",
      "execution_count": 14,
      "metadata": {
        "colab": {
          "base_uri": "https://localhost:8080/"
        },
        "id": "KFvQpC4DsZ6b",
        "outputId": "5a0c9845-7c62-4f8d-f072-b9076cacedb5"
      },
      "outputs": [
        {
          "data": {
            "text/plain": [
              "22     691.0\n",
              "15     468.0\n",
              "65     393.0\n",
              "11     315.0\n",
              "42     524.0\n",
              "       ...  \n",
              "71     640.0\n",
              "106    233.0\n",
              "14     410.0\n",
              "92     362.0\n",
              "102    359.0\n",
              "Name: Built-up Area (sqft), Length: 119, dtype: float64"
            ]
          },
          "execution_count": 14,
          "metadata": {},
          "output_type": "execute_result"
        }
      ],
      "source": [
        "X_train"
      ]
    },
    {
      "cell_type": "code",
      "execution_count": 25,
      "metadata": {
        "colab": {
          "base_uri": "https://localhost:8080/",
          "height": 295
        },
        "id": "8-ZeLH_ysjGC",
        "outputId": "90a15ee0-e7ad-4566-92ea-a193e53215eb"
      },
      "outputs": [
        {
          "data": {
            "image/png": "[encoded data removed]",
            "text/plain": [
              "<Figure size 640x480 with 1 Axes>"
            ]
          },
          "metadata": {},
          "output_type": "display_data"
        }
      ],
      "source": [
        "plt.scatter(X_train.values,y_train.values, s= 12, label = \"Points\")\n",
        "y_pred = lr.predict(X_train.values.reshape(-1,1))\n",
        "plt.plot(X_train.values,y_pred, label=\"Regression line\")\n",
        "plt.title(\"House Price Vs Floor Area\")\n",
        "plt.xlabel(\"Floor Area\")\n",
        "plt.ylabel(\"Price in 1000$\")\n",
        "plt.legend()\n",
        "plt.show()"
      ]
    },
    {
      "cell_type": "code",
      "execution_count": 27,
      "metadata": {
        "colab": {
          "base_uri": "https://localhost:8080/"
        },
        "id": "I5nDRuzptAOu",
        "outputId": "cd859f77-bbc6-4ff1-dcae-44a5d008fa5b"
      },
      "outputs": [
        {
          "name": "stdout",
          "output_type": "stream",
          "text": [
            "130.57148429157493\n",
            "11.426788012892116\n",
            "0.8827389714759885\n"
          ]
        }
      ],
      "source": [
        "mse = mean_squared_error(y_train,y_pred)\n",
        "rmse = mean_squared_error(y_train,y_pred,squared=False)\n",
        "r2 = r2_score(y_train,y_pred)\n",
        "print(mse)\n",
        "print(rmse)\n",
        "print(r2)"
      ]
    },
    {
      "cell_type": "code",
      "execution_count": 30,
      "metadata": {
        "colab": {
          "base_uri": "https://localhost:8080/"
        },
        "id": "alnHoExDthRH",
        "outputId": "cd4dfd32-16f6-4ac0-fb2e-83fb733b3e4a"
      },
      "outputs": [
        {
          "name": "stdout",
          "output_type": "stream",
          "text": [
            "108.43679388107715\n",
            "10.413298895214577\n",
            "0.9229207556091985\n"
          ]
        }
      ],
      "source": [
        "y_pred_test = lr.predict(X_test.values.reshape(-1,1))\n",
        "mse = mean_squared_error(y_test,y_pred_test)\n",
        "rmse = mean_squared_error(y_test,y_pred_test,squared=False)\n",
        "r2 = r2_score(y_test,y_pred_test)\n",
        "print(mse)\n",
        "print(rmse)\n",
        "print(r2)"
      ]
    },
    {
      "cell_type": "markdown",
      "metadata": {
        "id": "H5OlwbURutiQ"
      },
      "source": [
        "# Polynomial Regression"
      ]
    },
    {
      "cell_type": "code",
      "execution_count": 33,
      "metadata": {
        "id": "UD9Yhm1ZuL9p"
      },
      "outputs": [],
      "source": [
        "from sklearn.preprocessing import PolynomialFeatures"
      ]
    },
    {
      "cell_type": "code",
      "execution_count": 32,
      "metadata": {
        "colab": {
          "base_uri": "https://localhost:8080/"
        },
        "id": "drhSMc60RaQ2",
        "outputId": "9ff1d662-0345-4fce-d598-1e844c4ae723"
      },
      "outputs": [
        {
          "data": {
            "text/plain": [
              "array([[1],\n",
              "       [2],\n",
              "       [3],\n",
              "       [4]])"
            ]
          },
          "execution_count": 32,
          "metadata": {},
          "output_type": "execute_result"
        }
      ],
      "source": [
        "arr = np.arange(1,5).reshape(-1,1)\n",
        "arr"
      ]
    },
    {
      "cell_type": "code",
      "execution_count": 34,
      "metadata": {
        "colab": {
          "base_uri": "https://localhost:8080/"
        },
        "id": "-yBM09_TRgsR",
        "outputId": "dc30a2f9-31bc-4b5d-b797-06ecd6bc1f4b"
      },
      "outputs": [
        {
          "data": {
            "text/plain": [
              "array([[ 1.,  1.,  1.],\n",
              "       [ 1.,  2.,  4.],\n",
              "       [ 1.,  3.,  9.],\n",
              "       [ 1.,  4., 16.]])"
            ]
          },
          "execution_count": 34,
          "metadata": {},
          "output_type": "execute_result"
        }
      ],
      "source": [
        "poly = PolynomialFeatures(degree=2)\n",
        "poly.fit_transform(arr)"
      ]
    },
    {
      "cell_type": "code",
      "execution_count": null,
      "metadata": {
        "id": "2dtJsUujR4SS"
      },
      "outputs": [],
      "source": [
        "# x --> degree 2\n",
        "# x^0 , x^1 & x^2"
      ]
    },
    {
      "cell_type": "code",
      "execution_count": 35,
      "metadata": {
        "colab": {
          "base_uri": "https://localhost:8080/"
        },
        "id": "nIEeGI4TSREB",
        "outputId": "69e71bb4-0864-4c4e-f321-b93129a389a2"
      },
      "outputs": [
        {
          "data": {
            "text/plain": [
              "array([[ 1.,  1.,  1.,  1.],\n",
              "       [ 1.,  2.,  4.,  8.],\n",
              "       [ 1.,  3.,  9., 27.],\n",
              "       [ 1.,  4., 16., 64.]])"
            ]
          },
          "execution_count": 35,
          "metadata": {},
          "output_type": "execute_result"
        }
      ],
      "source": [
        "poly = PolynomialFeatures(degree=3)\n",
        "poly.fit_transform(arr)"
      ]
    },
    {
      "cell_type": "code",
      "execution_count": 23,
      "metadata": {
        "colab": {
          "base_uri": "https://localhost:8080/"
        },
        "id": "IWCh5ukjSTPJ",
        "outputId": "2e4cbb67-e012-464a-ef97-598080861cb6"
      },
      "outputs": [
        {
          "data": {
            "text/plain": [
              "22    691.0\n",
              "15    468.0\n",
              "65    393.0\n",
              "11    315.0\n",
              "42    524.0\n",
              "Name: Built-up Area (sqft), dtype: float64"
            ]
          },
          "execution_count": 23,
          "metadata": {},
          "output_type": "execute_result"
        }
      ],
      "source": [
        "X_train[:5]"
      ]
    },
    {
      "cell_type": "code",
      "execution_count": 38,
      "metadata": {
        "id": "DuUi-NaHSg8F"
      },
      "outputs": [],
      "source": [
        "poly = PolynomialFeatures(degree=2)\n",
        "X_train_transformed = poly.fit_transform(X_train.values.reshape(-1,1))"
      ]
    },
    {
      "cell_type": "code",
      "execution_count": 39,
      "metadata": {
        "colab": {
          "base_uri": "https://localhost:8080/"
        },
        "id": "gE4OeW8pSwxU",
        "outputId": "fa2cf785-5d22-4dd7-a100-db1e4c187464"
      },
      "outputs": [
        {
          "data": {
            "text/plain": [
              "array([[1.00000e+00, 6.91000e+02, 4.77481e+05],\n",
              "       [1.00000e+00, 4.68000e+02, 2.19024e+05],\n",
              "       [1.00000e+00, 3.93000e+02, 1.54449e+05],\n",
              "       [1.00000e+00, 3.15000e+02, 9.92250e+04],\n",
              "       [1.00000e+00, 5.24000e+02, 2.74576e+05]])"
            ]
          },
          "execution_count": 39,
          "metadata": {},
          "output_type": "execute_result"
        }
      ],
      "source": [
        "X_train_transformed[:5]"
      ]
    },
    {
      "cell_type": "code",
      "execution_count": 40,
      "metadata": {
        "colab": {
          "base_uri": "https://localhost:8080/"
        },
        "id": "P80qjqNESzIL",
        "outputId": "253599bc-0dbc-429f-d6da-fd59ce5c7b3e"
      },
      "outputs": [
        {
          "name": "stdout",
          "output_type": "stream",
          "text": [
            "70.9116140454665\n",
            "[ 0.         -0.18658297  0.00047343]\n"
          ]
        }
      ],
      "source": [
        "poly_reg = LinearRegression()\n",
        "poly_reg.fit(X_train_transformed,y_train)\n",
        "print(poly_reg.intercept_)\n",
        "print(poly_reg.coef_)\n",
        "# coefficients for each of the features"
      ]
    },
    {
      "cell_type": "code",
      "execution_count": 42,
      "metadata": {
        "colab": {
          "base_uri": "https://localhost:8080/"
        },
        "id": "Hh6jkkFnUGGv",
        "outputId": "68651f74-ddd6-45f2-ac49-937fce7f7fed"
      },
      "outputs": [
        {
          "name": "stdout",
          "output_type": "stream",
          "text": [
            "[57.54571784]\n"
          ]
        }
      ],
      "source": [
        "#floor area = 300 sqft\n",
        "data_transformed = poly.transform([[300]])\n",
        "# [1, 300, 300^2]\n",
        "# (1 * 0) + (300 * -0.18658297) + (300^2 * 0.00047343) + 70.9116140454665\n",
        "pred_price = poly_reg.predict(data_transformed)\n",
        "print(pred_price)"
      ]
    },
    {
      "cell_type": "code",
      "execution_count": 55,
      "metadata": {
        "colab": {
          "base_uri": "https://localhost:8080/",
          "height": 295
        },
        "id": "rfEKkHOnUoM5",
        "outputId": "6ca8c740-8ece-433b-cff3-ab793fa56797"
      },
      "outputs": [
        {
          "data": {
            "image/png": "[encoded data removed]",
            "text/plain": [
              "<Figure size 640x480 with 1 Axes>"
            ]
          },
          "metadata": {},
          "output_type": "display_data"
        }
      ],
      "source": [
        "plt.scatter(X_train.values,y_train.values, s= 12, label = \"Points\")\n",
        "y_pred = poly_reg.predict(X_train_transformed)\n",
        "\n",
        "# plt.plot(X_train.values,y_pred, label=\"Poly Regression degree 2 line\")\n",
        "# Need to zip the arrays together to sort on X then unzip\n",
        "sorted_zip = sorted(zip(X_train.values,y_pred))\n",
        "# * is the unpacking operator provided for zipped tuples\n",
        "X_train_sorted,y_pred_sorted = zip(*sorted_zip)\n",
        "plt.plot(X_train_sorted,y_pred_sorted, label=\"Poly Regression degree 2 line\")\n",
        "plt.title(\"House Price Vs Floor Area\")\n",
        "plt.xlabel(\"Floor Area\")\n",
        "plt.ylabel(\"Price in 1000$\")\n",
        "plt.legend()\n",
        "plt.show()"
      ]
    },
    {
      "cell_type": "code",
      "execution_count": 56,
      "metadata": {
        "colab": {
          "base_uri": "https://localhost:8080/"
        },
        "id": "DUuGDd32VRuJ",
        "outputId": "1633bb30-f2d5-436a-dd6e-ea9a89da52ea"
      },
      "outputs": [
        {
          "name": "stdout",
          "output_type": "stream",
          "text": [
            "72.63872657680335\n",
            "8.522835594847724\n",
            "0.9347660644643525\n"
          ]
        }
      ],
      "source": [
        "mse = mean_squared_error(y_train,y_pred)\n",
        "rmse = mean_squared_error(y_train,y_pred,squared=False)\n",
        "r2 = r2_score(y_train,y_pred)\n",
        "print(mse)\n",
        "print(rmse)\n",
        "print(r2)"
      ]
    },
    {
      "cell_type": "code",
      "execution_count": 57,
      "metadata": {
        "colab": {
          "base_uri": "https://localhost:8080/"
        },
        "id": "nFSjEsEHWT5M",
        "outputId": "f032b974-bf5f-42fd-aaaa-0ebddd686a0d"
      },
      "outputs": [
        {
          "name": "stdout",
          "output_type": "stream",
          "text": [
            "41.281697532474276\n",
            "6.425083465020068\n",
            "0.9706560666441097\n"
          ]
        }
      ],
      "source": [
        "X_test_transformed = poly.transform(X_test.values.reshape(-1,1))\n",
        "y_pred_test = poly_reg.predict(X_test_transformed)\n",
        "mse = mean_squared_error(y_test,y_pred_test)\n",
        "rmse = mean_squared_error(y_test,y_pred_test,squared=False)\n",
        "r2 = r2_score(y_test,y_pred_test)\n",
        "print(mse)\n",
        "print(rmse)\n",
        "print(r2)"
      ]
    },
    {
      "attachments": {},
      "cell_type": "markdown",
      "metadata": {
        "id": "FaWJ-ipTW7hs"
      },
      "source": [
        "# Pipeline\n",
        "Combine both polynomial transformation and linear regression in one pipeline"
      ]
    },
    {
      "cell_type": "code",
      "execution_count": 58,
      "metadata": {
        "colab": {
          "base_uri": "https://localhost:8080/"
        },
        "id": "Ij76mKbyWenP",
        "outputId": "ec117349-76e3-4479-b0fd-b43371c48e4c"
      },
      "outputs": [
        {
          "data": {
            "text/html": [
              "<style>#sk-container-id-2 {color: black;background-color: white;}#sk-container-id-2 pre{padding: 0;}#sk-container-id-2 div.sk-toggleable {background-color: white;}#sk-container-id-2 label.sk-toggleable__label {cursor: pointer;display: block;width: 100%;margin-bottom: 0;padding: 0.3em;box-sizing: border-box;text-align: center;}#sk-container-id-2 label.sk-toggleable__label-arrow:before {content: \"▸\";float: left;margin-right: 0.25em;color: #696969;}#sk-container-id-2 label.sk-toggleable__label-arrow:hover:before {color: black;}#sk-container-id-2 div.sk-estimator:hover label.sk-toggleable__label-arrow:before {color: black;}#sk-container-id-2 div.sk-toggleable__content {max-height: 0;max-width: 0;overflow: hidden;text-align: left;background-color: #f0f8ff;}#sk-container-id-2 div.sk-toggleable__content pre {margin: 0.2em;color: black;border-radius: 0.25em;background-color: #f0f8ff;}#sk-container-id-2 input.sk-toggleable__control:checked~div.sk-toggleable__content {max-height: 200px;max-width: 100%;overflow: auto;}#sk-container-id-2 input.sk-toggleable__control:checked~label.sk-toggleable__label-arrow:before {content: \"▾\";}#sk-container-id-2 div.sk-estimator input.sk-toggleable__control:checked~label.sk-toggleable__label {background-color: #d4ebff;}#sk-container-id-2 div.sk-label input.sk-toggleable__control:checked~label.sk-toggleable__label {background-color: #d4ebff;}#sk-container-id-2 input.sk-hidden--visually {border: 0;clip: rect(1px 1px 1px 1px);clip: rect(1px, 1px, 1px, 1px);height: 1px;margin: -1px;overflow: hidden;padding: 0;position: absolute;width: 1px;}#sk-container-id-2 div.sk-estimator {font-family: monospace;background-color: #f0f8ff;border: 1px dotted black;border-radius: 0.25em;box-sizing: border-box;margin-bottom: 0.5em;}#sk-container-id-2 div.sk-estimator:hover {background-color: #d4ebff;}#sk-container-id-2 div.sk-parallel-item::after {content: \"\";width: 100%;border-bottom: 1px solid gray;flex-grow: 1;}#sk-container-id-2 div.sk-label:hover label.sk-toggleable__label {background-color: #d4ebff;}#sk-container-id-2 div.sk-serial::before {content: \"\";position: absolute;border-left: 1px solid gray;box-sizing: border-box;top: 0;bottom: 0;left: 50%;z-index: 0;}#sk-container-id-2 div.sk-serial {display: flex;flex-direction: column;align-items: center;background-color: white;padding-right: 0.2em;padding-left: 0.2em;position: relative;}#sk-container-id-2 div.sk-item {position: relative;z-index: 1;}#sk-container-id-2 div.sk-parallel {display: flex;align-items: stretch;justify-content: center;background-color: white;position: relative;}#sk-container-id-2 div.sk-item::before, #sk-container-id-2 div.sk-parallel-item::before {content: \"\";position: absolute;border-left: 1px solid gray;box-sizing: border-box;top: 0;bottom: 0;left: 50%;z-index: -1;}#sk-container-id-2 div.sk-parallel-item {display: flex;flex-direction: column;z-index: 1;position: relative;background-color: white;}#sk-container-id-2 div.sk-parallel-item:first-child::after {align-self: flex-end;width: 50%;}#sk-container-id-2 div.sk-parallel-item:last-child::after {align-self: flex-start;width: 50%;}#sk-container-id-2 div.sk-parallel-item:only-child::after {width: 0;}#sk-container-id-2 div.sk-dashed-wrapped {border: 1px dashed gray;margin: 0 0.4em 0.5em 0.4em;box-sizing: border-box;padding-bottom: 0.4em;background-color: white;}#sk-container-id-2 div.sk-label label {font-family: monospace;font-weight: bold;display: inline-block;line-height: 1.2em;}#sk-container-id-2 div.sk-label-container {text-align: center;}#sk-container-id-2 div.sk-container {/* jupyter's `normalize.less` sets `[hidden] { display: none; }` but bootstrap.min.css set `[hidden] { display: none !important; }` so we also need the `!important` here to be able to override the default hidden behavior on the sphinx rendered scikit-learn.org. See: https://github.com/scikit-learn/scikit-learn/issues/21755 */display: inline-block !important;position: relative;}#sk-container-id-2 div.sk-text-repr-fallback {display: none;}</style><div id=\"sk-container-id-2\" class=\"sk-top-container\"><div class=\"sk-text-repr-fallback\"><pre>Pipeline(steps=[(&#x27;poly&#x27;, PolynomialFeatures()),\n",
              "                (&#x27;polynomial_regression&#x27;, LinearRegression())])</pre><b>In a Jupyter environment, please rerun this cell to show the HTML representation or trust the notebook. <br />On GitHub, the HTML representation is unable to render, please try loading this page with nbviewer.org.</b></div><div class=\"sk-container\" hidden><div class=\"sk-item sk-dashed-wrapped\"><div class=\"sk-label-container\"><div class=\"sk-label sk-toggleable\"><input class=\"sk-toggleable__control sk-hidden--visually\" id=\"sk-estimator-id-2\" type=\"checkbox\" ><label for=\"sk-estimator-id-2\" class=\"sk-toggleable__label sk-toggleable__label-arrow\">Pipeline</label><div class=\"sk-toggleable__content\"><pre>Pipeline(steps=[(&#x27;poly&#x27;, PolynomialFeatures()),\n",
              "                (&#x27;polynomial_regression&#x27;, LinearRegression())])</pre></div></div></div><div class=\"sk-serial\"><div class=\"sk-item\"><div class=\"sk-estimator sk-toggleable\"><input class=\"sk-toggleable__control sk-hidden--visually\" id=\"sk-estimator-id-3\" type=\"checkbox\" ><label for=\"sk-estimator-id-3\" class=\"sk-toggleable__label sk-toggleable__label-arrow\">PolynomialFeatures</label><div class=\"sk-toggleable__content\"><pre>PolynomialFeatures()</pre></div></div></div><div class=\"sk-item\"><div class=\"sk-estimator sk-toggleable\"><input class=\"sk-toggleable__control sk-hidden--visually\" id=\"sk-estimator-id-4\" type=\"checkbox\" ><label for=\"sk-estimator-id-4\" class=\"sk-toggleable__label sk-toggleable__label-arrow\">LinearRegression</label><div class=\"sk-toggleable__content\"><pre>LinearRegression()</pre></div></div></div></div></div></div></div>"
            ],
            "text/plain": [
              "Pipeline(steps=[('poly', PolynomialFeatures()),\n",
              "                ('polynomial_regression', LinearRegression())])"
            ]
          },
          "execution_count": 58,
          "metadata": {},
          "output_type": "execute_result"
        }
      ],
      "source": [
        "from sklearn.pipeline import Pipeline\n",
        "\n",
        "pipe = Pipeline([\n",
        "    (\"poly\", PolynomialFeatures(degree=2))\n",
        "    , (\"polynomial_regression\", LinearRegression())\n",
        "    ])\n",
        "\n",
        "pipe.fit(X_train.values.reshape(-1,1),y_train.values.reshape(-1,1))"
      ]
    },
    {
      "cell_type": "code",
      "execution_count": 63,
      "metadata": {
        "colab": {
          "base_uri": "https://localhost:8080/"
        },
        "id": "zVu4l2TpYYy0",
        "outputId": "60e2ac56-6da0-41d9-bc45-46c94ad5acab"
      },
      "outputs": [
        {
          "data": {
            "text/plain": [
              "array([[ 0.        , -0.18658297,  0.00047343]])"
            ]
          },
          "execution_count": 63,
          "metadata": {},
          "output_type": "execute_result"
        }
      ],
      "source": [
        "pipe.predict([[300]])\n",
        "# pipe.named_steps['polynomial_regression'].coef_"
      ]
    },
    {
      "cell_type": "code",
      "execution_count": 64,
      "metadata": {
        "colab": {
          "base_uri": "https://localhost:8080/"
        },
        "id": "qAHbZKoiYg7F",
        "outputId": "d258b5c7-ffc2-4664-fe44-67e3f9d6ac63"
      },
      "outputs": [
        {
          "name": "stdout",
          "output_type": "stream",
          "text": [
            "8.522835594847724\n",
            "0.9347660644643525\n",
            "6.425083465020068\n",
            "0.9706560666441097\n"
          ]
        }
      ],
      "source": [
        "y_pred = pipe.predict(X_train.values.reshape(-1,1))\n",
        "print(mean_squared_error(y_train,y_pred,squared = False))\n",
        "print(r2_score(y_train,y_pred))\n",
        "\n",
        "y_pred_test = pipe.predict(X_test.values.reshape(-1,1))\n",
        "print(mean_squared_error(y_test,y_pred_test,squared = False))\n",
        "print(r2_score(y_test,y_pred_test))"
      ]
    },
    {
      "attachments": {},
      "cell_type": "markdown",
      "metadata": {
        "id": "zkHmCbCrZPgo"
      },
      "source": [
        "# Cross Validation\n",
        "Check to see what the actual performance of the model looks like"
      ]
    },
    {
      "cell_type": "code",
      "execution_count": 65,
      "metadata": {
        "id": "HY9FMD-0ZsMH"
      },
      "outputs": [],
      "source": [
        "X_train = X_train.values.reshape(-1,1)\n",
        "y_train = y_train.values.reshape(-1,1)"
      ]
    },
    {
      "cell_type": "code",
      "execution_count": 69,
      "metadata": {
        "colab": {
          "base_uri": "https://localhost:8080/"
        },
        "id": "MxnEwbT9ZAZh",
        "outputId": "66c42d86-9764-48c5-8512-a342fd004847"
      },
      "outputs": [
        {
          "data": {
            "text/plain": [
              "8.615541039554328"
            ]
          },
          "execution_count": 69,
          "metadata": {},
          "output_type": "execute_result"
        }
      ],
      "source": [
        "from sklearn.model_selection import cross_val_score\n",
        "# cv = 3 means that the training data will be tested on 3 different folds of data\n",
        "scores = cross_val_score(pipe,X_train,y_train, cv = 3, scoring = \"neg_root_mean_squared_error\")\n",
        "neg_rmse = scores.mean()\n",
        "-neg_rmse"
      ]
    },
    {
      "cell_type": "code",
      "execution_count": 71,
      "metadata": {
        "id": "fz12gaggZ9RR"
      },
      "outputs": [],
      "source": [
        "X_test = X_test.values.reshape(-1,1)\n",
        "y_test = y_test.values.reshape(-1,1)"
      ]
    },
    {
      "cell_type": "code",
      "execution_count": 72,
      "metadata": {
        "colab": {
          "base_uri": "https://localhost:8080/"
        },
        "id": "J2HYNOjXZpy0",
        "outputId": "c23de2b8-0c18-4736-fff7-d2716431fcf5"
      },
      "outputs": [
        {
          "data": {
            "text/plain": [
              "6.800888112088135"
            ]
          },
          "execution_count": 72,
          "metadata": {},
          "output_type": "execute_result"
        }
      ],
      "source": [
        "scores = cross_val_score(pipe,X_test,y_test, cv = 3, scoring = \"neg_root_mean_squared_error\")\n",
        "neg_rmse = scores.mean()\n",
        "-neg_rmse"
      ]
    },
    {
      "cell_type": "code",
      "execution_count": 73,
      "metadata": {
        "colab": {
          "base_uri": "https://localhost:8080/"
        },
        "id": "ORVDWE6fZ_eV",
        "outputId": "df129a1c-7631-4840-9fa5-f7d587eb153a"
      },
      "outputs": [
        {
          "data": {
            "text/plain": [
              "0.9657808215430984"
            ]
          },
          "execution_count": 73,
          "metadata": {},
          "output_type": "execute_result"
        }
      ],
      "source": [
        "scores = cross_val_score(pipe,X_test,y_test, cv = 3, scoring = \"r2\")\n",
        "r2 = scores.mean()\n",
        "r2"
      ]
    },
    {
      "cell_type": "code",
      "execution_count": null,
      "metadata": {
        "id": "1FVqUmYZaHqI"
      },
      "outputs": [],
      "source": []
    }
  ],
  "metadata": {
    "colab": {
      "collapsed_sections": [],
      "name": "6. Regression - Machine Learning.ipynb",
      "provenance": []
    },
    "kernelspec": {
      "display_name": "Python 3",
      "name": "python3"
    },
    "language_info": {
      "codemirror_mode": {
        "name": "ipython",
        "version": 3
      },
      "file_extension": ".py",
      "mimetype": "text/x-python",
      "name": "python",
      "nbconvert_exporter": "python",
      "pygments_lexer": "ipython3",
      "version": "3.9.13"
    }
  },
  "nbformat": 4,
  "nbformat_minor": 0
}
